{
 "cells": [
  {
   "cell_type": "code",
   "execution_count": 2,
   "metadata": {},
   "outputs": [],
   "source": [
    "import tkinter as tk\n",
    "from tkinter import filedialog\n",
    "import os\n",
    "import chardet"
   ]
  },
  {
   "cell_type": "code",
   "execution_count": 3,
   "metadata": {},
   "outputs": [
    {
     "name": "stdout",
     "output_type": "stream",
     "text": [
      "files_to_concat = [\n",
      "    r'E:/bstock_scraper/tests/__init__.py',\n",
      "    r'E:/bstock_scraper/tests/test_auth.py',\n",
      "]\n"
     ]
    }
   ],
   "source": [
    "root = tk.Tk()\n",
    "root.withdraw()\n",
    "\n",
    "file_paths = filedialog.askopenfilenames()\n",
    "print(\"files_to_concat = [\")\n",
    "for path in file_paths:\n",
    "    print(f\"    r'{path}',\")\n",
    "print(\"]\")"
   ]
  },
  {
   "cell_type": "code",
   "execution_count": 4,
   "metadata": {},
   "outputs": [],
   "source": [
    "files_to_concat = [\n",
    "    r'E:/bstock_scraper/.env',\n",
    "    r'E:/bstock_scraper/.env.example',\n",
    "    r'E:/bstock_scraper/.gitignore',\n",
    "    r'E:/bstock_scraper/alembic.ini',\n",
    "    r'E:/bstock_scraper/README.md',\n",
    "    r'E:/bstock_scraper/requirements.txt',\n",
    "    r'E:/bstock_scraper/config/__init__.py',\n",
    "    r'E:/bstock_scraper/config/settings.py',\n",
    "    r'E:/bstock_scraper/config/marketplaces/__init__.py',\n",
    "    r'E:/bstock_scraper/config/marketplaces/amazon.py',\n",
    "    r'E:/bstock_scraper/config/marketplaces/target.py',    \n",
    "    r'E:/bstock_scraper/notebooks/database_notebook.ipynb',\n",
    "    r'E:/bstock_scraper/prompts/HTML amazon all-inventory.html',\n",
    "    r'E:/bstock_scraper/prompts/HTML amazon auction detail.html',\n",
    "    r'E:/bstock_scraper/prompts/HTML target all-inventory.html',\n",
    "    r'E:/bstock_scraper/prompts/HTML target auction detail.html',\n",
    "    r'E:/bstock_scraper/scripts/export_data.py',\n",
    "    r'E:/bstock_scraper/scripts/run_scraper.py',\n",
    "    r'E:/bstock_scraper/src/core/__init__.py',\n",
    "    r'E:/bstock_scraper/src/core/auth.py',\n",
    "    r'E:/bstock_scraper/src/core/rate_limiter.py',\n",
    "    r'E:/bstock_scraper/src/core/scraper.py',\n",
    "    r'E:/bstock_scraper/src/models/__init__.py',\n",
    "    r'E:/bstock_scraper/src/models/auction.py',\n",
    "    r'E:/bstock_scraper/src/models/marketplace.py',\n",
    "    r'E:/bstock_scraper/src/models/shipping.py',\n",
    "    r'E:/bstock_scraper/src/parsers/__init__.py',\n",
    "    r'E:/bstock_scraper/src/parsers/amazon_parser.py',\n",
    "    r'E:/bstock_scraper/src/parsers/base_parser.py',\n",
    "    r'E:/bstock_scraper/src/parsers/target_parser.py',\n",
    "    r'E:/bstock_scraper/src/storage/__init__.py',\n",
    "    r'E:/bstock_scraper/src/storage/database.py',\n",
    "    r'E:/bstock_scraper/src/storage/exporters.py',\n",
    "    r'E:/bstock_scraper/src/utils/__init__.py',\n",
    "    r'E:/bstock_scraper/src/utils/http.py',\n",
    "    r'E:/bstock_scraper/src/utils/logging.py',\n",
    "    r'E:/bstock_scraper/src/__init__.py',\n",
    "    r'E:/bstock_scraper/tests/__init__.py',\n",
    "    r'E:/bstock_scraper/tests/test_auth.py',\n",
    "]\n",
    "\n",
    "all_files_to_concat = [\n",
    "    r'E:/bstock_scraper/.env',\n",
    "    r'E:/bstock_scraper/.env.example',\n",
    "    r'E:/bstock_scraper/.gitignore',\n",
    "    r'E:/bstock_scraper/alembic.ini',\n",
    "    r'E:/bstock_scraper/README.md',\n",
    "    r'E:/bstock_scraper/requirements.txt',\n",
    "    r'E:/bstock_scraper/config/__init__.py',\n",
    "    r'E:/bstock_scraper/config/settings.py',\n",
    "    r'E:/bstock_scraper/config/marketplaces/__init__.py',\n",
    "    r'E:/bstock_scraper/config/marketplaces/amazon.py',\n",
    "    r'E:/bstock_scraper/config/marketplaces/target.py',    \n",
    "    r'E:/bstock_scraper/notebooks/database_notebook.ipynb',\n",
    "    r'E:/bstock_scraper/prompts/HTML amazon all-inventory.html',\n",
    "    r'E:/bstock_scraper/prompts/HTML amazon auction detail.html',\n",
    "    r'E:/bstock_scraper/prompts/HTML target all-inventory.html',\n",
    "    r'E:/bstock_scraper/prompts/HTML target auction detail.html',\n",
    "    r'E:/bstock_scraper/scripts/export_data.py',\n",
    "    r'E:/bstock_scraper/scripts/run_scraper.py',\n",
    "    r'E:/bstock_scraper/src/core/__init__.py',\n",
    "    r'E:/bstock_scraper/src/core/auth.py',\n",
    "    r'E:/bstock_scraper/src/core/rate_limiter.py',\n",
    "    r'E:/bstock_scraper/src/core/scraper.py',\n",
    "    r'E:/bstock_scraper/src/models/__init__.py',\n",
    "    r'E:/bstock_scraper/src/models/auction.py',\n",
    "    r'E:/bstock_scraper/src/models/marketplace.py',\n",
    "    r'E:/bstock_scraper/src/models/shipping.py',\n",
    "    r'E:/bstock_scraper/src/parsers/__init__.py',\n",
    "    r'E:/bstock_scraper/src/parsers/amazon_parser.py',\n",
    "    r'E:/bstock_scraper/src/parsers/base_parser.py',\n",
    "    r'E:/bstock_scraper/src/parsers/target_parser.py',\n",
    "    r'E:/bstock_scraper/src/storage/__init__.py',\n",
    "    r'E:/bstock_scraper/src/storage/database.py',\n",
    "    r'E:/bstock_scraper/src/storage/exporters.py',\n",
    "    r'E:/bstock_scraper/src/utils/__init__.py',\n",
    "    r'E:/bstock_scraper/src/utils/http.py',\n",
    "    r'E:/bstock_scraper/src/utils/logging.py',\n",
    "    r'E:/bstock_scraper/src/__init__.py',\n",
    "    r'E:/bstock_scraper/tests/__init__.py',\n",
    "    r'E:/bstock_scraper/tests/test_auth.py',\n",
    "]"
   ]
  },
  {
   "cell_type": "code",
   "execution_count": 5,
   "metadata": {},
   "outputs": [],
   "source": [
    "def concat_files(files_to_concat, new_filename):\n",
    "    def is_sensitive_file(filename):\n",
    "        sensitive_files = ['requirements.txt', 'Pipfile', 'setup.cfg', 'pyproject.toml']\n",
    "        return any(filename.lower().endswith(sf) for sf in sensitive_files)\n",
    "\n",
    "    def clean_content(text, is_sensitive):\n",
    "        if is_sensitive:\n",
    "            # For sensitive files, only remove trailing whitespace\n",
    "            return '\\n'.join(line.rstrip() for line in text.split('\\n'))\n",
    "        else:\n",
    "            # For other files, apply more thorough cleaning\n",
    "            lines = [line.strip() for line in text.split('\\n')]\n",
    "            lines = [line for line in lines if line]\n",
    "            return '\\n'.join(lines)\n",
    "\n",
    "    def read_file(file_path):\n",
    "        # Read file content and detect encoding\n",
    "        with open(file_path, 'rb') as file:\n",
    "            raw_data = file.read()\n",
    "        detected = chardet.detect(raw_data)\n",
    "        encoding = detected['encoding']\n",
    "\n",
    "        try:\n",
    "            return raw_data.decode(encoding)\n",
    "        except:\n",
    "            return None  # Return None if decoding fails\n",
    "\n",
    "    with open(new_filename, 'w', encoding='utf-8') as outfile:\n",
    "        for file_path in files_to_concat:\n",
    "            filename = os.path.basename(file_path)\n",
    "            is_sensitive = is_sensitive_file(filename)\n",
    "            \n",
    "            outfile.write(f\"\\n{'='*50}\\n\")\n",
    "            outfile.write(f\"File Path: {file_path}\\n\")\n",
    "            outfile.write(f\"{'='*50}\\n\")\n",
    "            \n",
    "            content = read_file(file_path)\n",
    "            if content is not None:\n",
    "                cleaned_content = clean_content(content, is_sensitive)\n",
    "                outfile.write(cleaned_content + \"\\n\")\n",
    "            else:\n",
    "                outfile.write(f\"Error: Unable to read file {filename}. It may be a binary file.\\n\")\n",
    "    \n",
    "    print(f\"Concatenated file created: {new_filename}\")"
   ]
  },
  {
   "cell_type": "code",
   "execution_count": 6,
   "metadata": {},
   "outputs": [
    {
     "name": "stdout",
     "output_type": "stream",
     "text": [
      "Concatenated file created: important files.txt\n"
     ]
    }
   ],
   "source": [
    "new_filename = \"important files.txt\"\n",
    "concat_files(files_to_concat, new_filename)"
   ]
  }
 ],
 "metadata": {
  "kernelspec": {
   "display_name": ".venv",
   "language": "python",
   "name": "python3"
  },
  "language_info": {
   "codemirror_mode": {
    "name": "ipython",
    "version": 3
   },
   "file_extension": ".py",
   "mimetype": "text/x-python",
   "name": "python",
   "nbconvert_exporter": "python",
   "pygments_lexer": "ipython3",
   "version": "3.12.0"
  },
  "orig_nbformat": 4
 },
 "nbformat": 4,
 "nbformat_minor": 2
}
