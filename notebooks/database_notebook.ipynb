{
 "cells": [
  {
   "cell_type": "markdown",
   "metadata": {},
   "source": [
    "# Database Exploration\n",
    "\n",
    "This notebook helps explore and verify our database structure."
   ]
  },
  {
   "cell_type": "code",
   "execution_count": null,
   "metadata": {},
   "outputs": [],
   "source": [
    "# Add the project root to Python path so we can import our modules\n",
    "import sys\n",
    "from pathlib import Path\n",
    "project_root = str(Path.cwd().parent)\n",
    "if project_root not in sys.path:\n",
    "    sys.path.append(project_root)\n",
    "\n",
    "# Import required modules\n",
    "from sqlalchemy import inspect\n",
    "from src.storage.database import engine\n",
    "\n",
    "# Setup prettier display for DataFrames if we need them later\n",
    "import pandas as pd\n",
    "pd.set_option('display.max_columns', None)\n",
    "pd.set_option('display.max_rows', 50)"
   ]
  },
  {
   "cell_type": "code",
   "execution_count": null,
   "metadata": {},
   "outputs": [],
   "source": [
    "# Inspect database structure\n",
    "inspector = inspect(engine)\n",
    "\n",
    "# Get all tables\n",
    "for table_name in inspector.get_table_names():\n",
    "    print(f\"\\nTable: {table_name}\")\n",
    "    \n",
    "    # Get columns\n",
    "    print(\"Columns:\")\n",
    "    for column in inspector.get_columns(table_name):\n",
    "        print(f\"  - {column['name']}: {column['type']}\")\n",
    "    \n",
    "    # Get indexes\n",
    "    print(\"\\nIndexes:\")\n",
    "    for index in inspector.get_indexes(table_name):\n",
    "        print(f\"  - {index['name']}: {index['column_names']}\")\n",
    "    \n",
    "    # Get foreign keys\n",
    "    print(\"\\nForeign Keys:\")\n",
    "    for fk in inspector.get_foreign_keys(table_name):\n",
    "        print(f\"  - {fk['name']}: {fk['referred_table']}\")"
   ]
  },
  {
   "cell_type": "code",
   "execution_count": null,
   "metadata": {},
   "outputs": [],
   "source": [
    "# Helper function to query tables\n",
    "def get_table_data(table_name, limit=5):\n",
    "    \"\"\"Get sample data from a table\"\"\"\n",
    "    query = f\"SELECT * FROM {table_name} LIMIT {limit}\"\n",
    "    return pd.read_sql(query, engine)\n",
    "\n",
    "# Example usage:\n",
    "# df = get_table_data('auctions')\n",
    "# df"
   ]
  }
 ],
 "metadata": {
  "kernelspec": {
   "display_name": "venv",
   "language": "python",
   "name": "python3"
  },
  "language_info": {
   "codemirror_mode": {
    "name": "ipython",
    "version": 3
   },
   "file_extension": ".py",
   "mimetype": "text/x-python",
   "name": "python",
   "nbconvert_exporter": "python",
   "pygments_lexer": "ipython3",
   "version": "3.12.0"
  }
 },
 "nbformat": 4,
 "nbformat_minor": 2
}
